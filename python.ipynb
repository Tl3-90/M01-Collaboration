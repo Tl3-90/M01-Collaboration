{
 "cells": [
  {
   "cell_type": "code",
   "execution_count": null,
   "id": "9308971f",
   "metadata": {},
   "outputs": [],
   "source": [
    "#3.1\n",
    "years_list = [1990, 1991, 1992, 1993, 1994, 1995]"
   ]
  },
  {
   "cell_type": "code",
   "execution_count": null,
   "id": "fd994042",
   "metadata": {},
   "outputs": [],
   "source": [
    "#3.2\n",
    "years_list[3]"
   ]
  },
  {
   "cell_type": "code",
   "execution_count": null,
   "id": "b488ec58",
   "metadata": {},
   "outputs": [],
   "source": [
    "#3.3\n",
    "oldest_age = max(years_list) - min(years_list)\n",
    "print(\"oldest age \", oldest_age)"
   ]
  },
  {
   "cell_type": "code",
   "execution_count": null,
   "id": "c1004173",
   "metadata": {},
   "outputs": [],
   "source": [
    "#3.4 & 3.5\n",
    "things = [\"mozzarella\", \"cinderella\", \"salmonella\"]\n",
    "person_index = 1\n",
    "things[person_index] = things[person_index].capitalize()\n",
    "print(things)"
   ]
  },
  {
   "cell_type": "code",
   "execution_count": null,
   "id": "ba7c0389",
   "metadata": {},
   "outputs": [],
   "source": [
    "#3.6\n",
    "things = [\"mozzarella\", \"cinderella\", \"salmonella\"]\n",
    "cheesy_index = 0\n",
    "things[cheesy_index] = things[cheesy_index].upper()\n",
    "print(things)"
   ]
  }
 ],
 "metadata": {
  "kernelspec": {
   "display_name": "Python 3 (ipykernel)",
   "language": "python",
   "name": "python3"
  },
  "language_info": {
   "codemirror_mode": {
    "name": "ipython",
    "version": 3
   },
   "file_extension": ".py",
   "mimetype": "text/x-python",
   "name": "python",
   "nbconvert_exporter": "python",
   "pygments_lexer": "ipython3",
   "version": "3.10.9"
  }
 },
 "nbformat": 4,
 "nbformat_minor": 5
}
