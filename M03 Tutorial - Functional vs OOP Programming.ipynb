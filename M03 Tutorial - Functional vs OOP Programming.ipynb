{
 "cells": [
  {
   "cell_type": "code",
   "execution_count": 1,
   "id": "90c0b36e",
   "metadata": {},
   "outputs": [],
   "source": [
    "class Calculator:\n",
    "    def __init__(self):\n",
    "        pass\n",
    "    \n",
    "    def subtract(self, a, b):\n",
    "        return a - b\n",
    "    \n",
    "def divide(a, b):\n",
    "    if b == 0:\n",
    "        raise ValueError(\"Cannot divide by zero!\")\n",
    "    return a / b\n",
    "\n",
    "calculator = Calculator()"
   ]
  },
  {
   "cell_type": "code",
   "execution_count": 5,
   "id": "ad87931b",
   "metadata": {},
   "outputs": [
    {
     "name": "stdout",
     "output_type": "stream",
     "text": [
      "5\n",
      "5.0\n",
      "Cannot divide by zero!\n"
     ]
    }
   ],
   "source": [
    "# Test the subtract function\n",
    "result = calculator.subtract(10, 5)\n",
    "print(result)  # Output: 5\n",
    "\n",
    "# Test the divide function\n",
    "result = divide(10, 2)\n",
    "print(result)  # Output: 5.0\n",
    "\n",
    "try:\n",
    "    result = divide(10, 0)  # this should raise a ValueError\n",
    "except ValueError as e:\n",
    "    print(str(e))  # Output: Cannot divide by zero!"
   ]
  },
  {
   "cell_type": "code",
   "execution_count": null,
   "id": "9f9d8331",
   "metadata": {},
   "outputs": [],
   "source": []
  }
 ],
 "metadata": {
  "kernelspec": {
   "display_name": "Python 3 (ipykernel)",
   "language": "python",
   "name": "python3"
  },
  "language_info": {
   "codemirror_mode": {
    "name": "ipython",
    "version": 3
   },
   "file_extension": ".py",
   "mimetype": "text/x-python",
   "name": "python",
   "nbconvert_exporter": "python",
   "pygments_lexer": "ipython3",
   "version": "3.10.9"
  }
 },
 "nbformat": 4,
 "nbformat_minor": 5
}
