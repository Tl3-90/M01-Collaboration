{
 "cells": [
  {
   "cell_type": "code",
   "execution_count": null,
   "id": "a8a674c5",
   "metadata": {},
   "outputs": [],
   "source": [
    "import datetime\n",
    "\n",
    "# Write the current date as a string to the file\n",
    "today = datetime.datetime.today().strftime('%Y-%m-%d')\n",
    "with open('today.txt', 'w') as file:\n",
    "    file.write(today)\n",
    "\n",
    "# Read the date string from the file\n",
    "with open('today.txt', 'r') as file:\n",
    "    today_string = file.read()\n",
    "\n",
    "# Parse the date from the string\n",
    "date_obj = datetime.datetime.strptime(today_string, '%Y-%m-%d').date()\n",
    "\n",
    "print(date_obj)"
   ]
  },
  {
   "cell_type": "code",
   "execution_count": 3,
   "id": "b23fe661",
   "metadata": {},
   "outputs": [],
   "source": [
    "import multiprocessing\n",
    "import time\n",
    "import random\n",
    "from datetime import datetime\n",
    "\n",
    "# Define a function that each process will run\n",
    "def worker():\n",
    "    # Wait for a random number of seconds between 0 and 1\n",
    "    time.sleep(random.random())\n",
    "    \n",
    "    # Print the current time\n",
    "    now = datetime.now()\n",
    "    print(f\"Process {multiprocessing.current_process().name} is running at {now}\")\n",
    "    \n",
    "    # Exit the process\n",
    "    return\n",
    "\n",
    "# Create three processes\n",
    "processes = []\n",
    "for i in range(3):\n",
    "    p = multiprocessing.Process(target=worker, name=f\"Process-{i}\")\n",
    "    processes.append(p)\n",
    "\n",
    "# Start the processes\n",
    "for p in processes:\n",
    "    p.start()\n",
    "\n",
    "# Wait for the processes to finish\n",
    "for p in processes:\n",
    "    p.join()"
   ]
  },
  {
   "cell_type": "code",
   "execution_count": null,
   "id": "3c2b5885",
   "metadata": {},
   "outputs": [],
   "source": []
  }
 ],
 "metadata": {
  "kernelspec": {
   "display_name": "Python 3 (ipykernel)",
   "language": "python",
   "name": "python3"
  },
  "language_info": {
   "codemirror_mode": {
    "name": "ipython",
    "version": 3
   },
   "file_extension": ".py",
   "mimetype": "text/x-python",
   "name": "python",
   "nbconvert_exporter": "python",
   "pygments_lexer": "ipython3",
   "version": "3.10.9"
  }
 },
 "nbformat": 4,
 "nbformat_minor": 5
}
