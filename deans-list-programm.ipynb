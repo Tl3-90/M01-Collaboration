{
 "cells": [
  {
   "cell_type": "code",
   "execution_count": null,
   "id": "3cc5e3b2",
   "metadata": {},
   "outputs": [
    {
     "name": "stdout",
     "output_type": "stream",
     "text": [
      "Enter student's last name (enter ZZZ to quit): layton\n",
      "Enter student's first name: thomas\n",
      "Enter student's GPA: 2.3\n",
      "thomas layton did not make either the Dean's List or the Honor Roll.\n"
     ]
    }
   ],
   "source": [
    "# Author: Thomas\n",
    "# File name: student_qualification.py\n",
    "# Description: This program accepts student names and GPAs and tests if the student qualifies for either the Dean's List or the Honor Roll.\n",
    "\n",
    "while True:\n",
    "    last_name = input(\"Enter student's last name (enter ZZZ to quit): \")\n",
    "    if last_name == 'ZZZ':\n",
    "        break\n",
    "    \n",
    "    first_name = input(\"Enter student's first name: \")\n",
    "    gpa = float(input(\"Enter student's GPA: \"))\n",
    "    \n",
    "    if gpa >= 3.5:\n",
    "        print(f\"{first_name} {last_name} made the Dean's List.\")\n",
    "    elif gpa >= 3.25:\n",
    "        print(f\"{first_name} {last_name} made the Honor Roll.\")\n",
    "    else:\n",
    "        print(f\"{first_name} {last_name} did not make either the Dean's List or the Honor Roll.\")"
   ]
  },
  {
   "cell_type": "code",
   "execution_count": null,
   "id": "f2a5228e",
   "metadata": {},
   "outputs": [],
   "source": []
  }
 ],
 "metadata": {
  "kernelspec": {
   "display_name": "Python 3 (ipykernel)",
   "language": "python",
   "name": "python3"
  },
  "language_info": {
   "codemirror_mode": {
    "name": "ipython",
    "version": 3
   },
   "file_extension": ".py",
   "mimetype": "text/x-python",
   "name": "python",
   "nbconvert_exporter": "python",
   "pygments_lexer": "ipython3",
   "version": "3.10.9"
  }
 },
 "nbformat": 4,
 "nbformat_minor": 5
}
