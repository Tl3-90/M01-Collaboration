{
 "cells": [
  {
   "cell_type": "code",
   "execution_count": 1,
   "id": "bb84cf68",
   "metadata": {},
   "outputs": [
    {
     "name": "stdout",
     "output_type": "stream",
     "text": [
      "What type of vehicle is this? ultima\n",
      "What year is the vehicle? 2007\n",
      "What is the make of the vehicle? car\n",
      "What is the model of the vehicle? nissan\n",
      "How many doors does the vehicle have? (2 or 4) 4\n",
      "What type of roof does the vehicle have? regular\n",
      "Vehicle type: ultima\n",
      "Year: 2007\n",
      "Make: car\n",
      "Model: nissan\n",
      "Number of doors: 4\n",
      "Type of roof: regular\n"
     ]
    }
   ],
   "source": [
    "class Vehicle:\n",
    "    def __init__(self, vehicle_type):\n",
    "        self.vehicle_type = vehicle_type\n",
    "\n",
    "class Automobile(Vehicle):\n",
    "    def __init__(self, vehicle_type, year, make, model, doors, roof):\n",
    "        super().__init__(vehicle_type)\n",
    "        self.year = year\n",
    "        self.make = make\n",
    "        self.model = model\n",
    "        self.doors = doors\n",
    "        self.roof = roof\n",
    "\n",
    "vehicle_type = input(\"What type of vehicle is this? \")\n",
    "year = int(input(\"What year is the vehicle? \"))\n",
    "make = input(\"What is the make of the vehicle? \")\n",
    "model = input(\"What is the model of the vehicle? \")\n",
    "doors = int(input(\"How many doors does the vehicle have? (2 or 4) \"))\n",
    "while doors not in [2, 4]:\n",
    "    doors = int(input(\"Invalid input. Please enter 2 or 4 for the number of doors: \"))\n",
    "roof = input(\"What type of roof does the vehicle have? \")\n",
    "\n",
    "vehicle = Automobile(vehicle_type, year, make, model, doors, roof)\n",
    "\n",
    "print(\"Vehicle type: \" + vehicle.vehicle_type)\n",
    "print(\"Year: \" + str(vehicle.year))\n",
    "print(\"Make: \" + vehicle.make)\n",
    "print(\"Model: \" + vehicle.model)\n",
    "print(\"Number of doors: \" + str(vehicle.doors))\n",
    "print(\"Type of roof: \" + vehicle.roof)"
   ]
  },
  {
   "cell_type": "code",
   "execution_count": null,
   "id": "2e2e874a",
   "metadata": {},
   "outputs": [],
   "source": []
  }
 ],
 "metadata": {
  "kernelspec": {
   "display_name": "Python 3 (ipykernel)",
   "language": "python",
   "name": "python3"
  },
  "language_info": {
   "codemirror_mode": {
    "name": "ipython",
    "version": 3
   },
   "file_extension": ".py",
   "mimetype": "text/x-python",
   "name": "python",
   "nbconvert_exporter": "python",
   "pygments_lexer": "ipython3",
   "version": "3.10.9"
  }
 },
 "nbformat": 4,
 "nbformat_minor": 5
}
